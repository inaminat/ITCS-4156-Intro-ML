{
 "cells": [
  {
   "cell_type": "markdown",
   "metadata": {},
   "source": [
    "# Machine Learning Lab Assignment - 1\n",
    "\n",
    "## Iryna Naminat"
   ]
  },
  {
   "cell_type": "markdown",
   "metadata": {},
   "source": [
    "### 1) Given a string, convert it to a list and a tuple"
   ]
  },
  {
   "cell_type": "code",
   "execution_count": 64,
   "metadata": {},
   "outputs": [
    {
     "name": "stdout",
     "output_type": "stream",
     "text": [
      "<class 'list'> ['H', 'e', 'l', 'l', 'o', ' ', 'W', 'o', 'r', 'l', 'd', '!']\n",
      "<class 'tuple'> ('H', 'e', 'l', 'l', 'o', ' ', 'W', 'o', 'r', 'l', 'd', '!')\n"
     ]
    }
   ],
   "source": [
    "var=\"Hello World!\"\n",
    "a=list(var)\n",
    "b=tuple(var)\n",
    "print (type(a), a)\n",
    "print (type(b), b)\n"
   ]
  },
  {
   "cell_type": "markdown",
   "metadata": {},
   "source": [
    "### 2) Give 'n' numbers as input and find their average"
   ]
  },
  {
   "cell_type": "code",
   "execution_count": 65,
   "metadata": {},
   "outputs": [
    {
     "name": "stdout",
     "output_type": "stream",
     "text": [
      "How many numbers do you want to insert? 5\n",
      "Enter a number 6\n",
      "Enter a number 10\n",
      "Enter a number 14\n",
      "Enter a number 9\n",
      "Enter a number 12\n",
      "Average  10.2\n"
     ]
    }
   ],
   "source": [
    "import numpy as np\n",
    "# Taking input from the user\n",
    "num = input(\"How many numbers do you want to insert? \")\n",
    "aver=[]\n",
    "\n",
    "for x in range (int(num)):\n",
    "    x=int(input (\"Enter a number \"))  \n",
    "    aver.append(x)\n",
    "    \n",
    "print (\"Average \", np.average(aver))\n"
   ]
  },
  {
   "cell_type": "markdown",
   "metadata": {},
   "source": [
    "### 3) Find your age when you input your date of birth"
   ]
  },
  {
   "cell_type": "code",
   "execution_count": 32,
   "metadata": {},
   "outputs": [
    {
     "name": "stdout",
     "output_type": "stream",
     "text": [
      "Enter the day 09\n",
      "Enter the month 08\n",
      "Enter the year 2008\n",
      "Difference is 13 year, 1 months, 9 days \n"
     ]
    }
   ],
   "source": [
    "# Import date class from datetime module\n",
    "from datetime import date\n",
    "from dateutil import relativedelta\n",
    "\n",
    "day = int(input(\"Enter the day \"))\n",
    "mon = int(input(\"Enter the month \"))\n",
    "year = int(input(\"Enter the year \"))\n",
    "you=date(year, mon, day)\n",
    "\n",
    "# Returns the current local date\n",
    "today = date.today()\n",
    "\n",
    "dif = relativedelta.relativedelta(today, you)\n",
    "years = dif.years\n",
    "months = dif.months\n",
    "days = dif.days\n",
    "\n",
    "print (\"Difference is %s year, %s months, %s days \" %(years, months, days ))"
   ]
  },
  {
   "cell_type": "markdown",
   "metadata": {},
   "source": [
    "### 4) Write a python program to find the maximum number and minimum number in an array of 'n' numbers using a function"
   ]
  },
  {
   "cell_type": "code",
   "execution_count": 53,
   "metadata": {},
   "outputs": [
    {
     "name": "stdout",
     "output_type": "stream",
     "text": [
      "How many numbers do you want to insert? 6\n",
      "Enter a number 6\n",
      "Enter a number 7\n",
      "Enter a number 63\n",
      "Enter a number 70\n",
      "Enter a number 100\n",
      "Enter a number 6\n",
      "----------\n",
      "Minimum number  6\n",
      "Maximum number  100\n"
     ]
    }
   ],
   "source": [
    "\n",
    "def num ():\n",
    "    n = input(\"How many numbers do you want to insert? \")\n",
    "    arr=[]\n",
    "    for x in range (int(n)):\n",
    "        x=int(input (\"Enter a number \"))  \n",
    "        arr.append(x)\n",
    "        \n",
    "    print(\"-\"*10)   \n",
    "    print (\"Minimum number \", min(arr))\n",
    "    print (\"Maximum number \", max(arr))\n",
    "\n",
    "num ()\n"
   ]
  },
  {
   "cell_type": "markdown",
   "metadata": {},
   "source": [
    "### 5) Write a Python program to interchange two numbers from an array of 10 numbers using a function"
   ]
  },
  {
   "cell_type": "code",
   "execution_count": 63,
   "metadata": {},
   "outputs": [
    {
     "name": "stdout",
     "output_type": "stream",
     "text": [
      "Insert the first number 1\n",
      "Insert the second number 10\n",
      "Old Array  [ 3 44 76 54 81 98 29  3 22 65]\n",
      "New Arr  [65 44 76 54 81 98 29  3 22  3]\n"
     ]
    }
   ],
   "source": [
    "import numpy as np\n",
    "\n",
    "first = int(input(\"Insert the first number \"))\n",
    "second = int(input(\"Insert the second number \"))\n",
    "arr= np.random.randint(1,101,10)\n",
    "print (\"Old Array \", arr)\n",
    "\n",
    "def change (first,second):    \n",
    "    temp=arr[first-1]\n",
    "    arr[first-1]=arr[second-1]\n",
    "    arr[second-1]=temp\n",
    "    return arr\n",
    "    \n",
    "\n",
    "print (\"New Arr \", change (first, second))\n",
    "\n"
   ]
  },
  {
   "cell_type": "code",
   "execution_count": null,
   "metadata": {},
   "outputs": [],
   "source": []
  },
  {
   "cell_type": "code",
   "execution_count": null,
   "metadata": {},
   "outputs": [],
   "source": []
  }
 ],
 "metadata": {
  "kernelspec": {
   "display_name": "Python 3",
   "language": "python",
   "name": "python3"
  }
 },
 "nbformat": 4,
 "nbformat_minor": 4
}
